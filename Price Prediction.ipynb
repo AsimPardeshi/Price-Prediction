{
 "cells": [
  {
   "cell_type": "code",
   "execution_count": 3,
   "id": "3b3162ec",
   "metadata": {},
   "outputs": [],
   "source": [
    "#IMPORTING LIABRARIES\n",
    "import numpy as np\n",
    "import pandas as pd\n",
    "import matplotlib.pyplot as plt\n",
    "import seaborn as sns\n",
    "from sklearn.linear_model import LinearRegression\n",
    "from sklearn.model_selection import train_test_split\n",
    "from sklearn.metrics import r2_score"
   ]
  },
  {
   "cell_type": "code",
   "execution_count": 4,
   "id": "d184bc8a",
   "metadata": {},
   "outputs": [],
   "source": [
    "#DATA PREPERATION\n",
    "dp=pd.read_csv(r'D:\\DataSets/avocado.csv')"
   ]
  },
  {
   "cell_type": "markdown",
   "id": "2317110f",
   "metadata": {},
   "source": [
    "# EXPLORING THE DATA"
   ]
  },
  {
   "cell_type": "code",
   "execution_count": 6,
   "id": "38a119b1",
   "metadata": {},
   "outputs": [
    {
     "name": "stdout",
     "output_type": "stream",
     "text": [
      "<class 'pandas.core.frame.DataFrame'>\n",
      "RangeIndex: 18249 entries, 0 to 18248\n",
      "Data columns (total 14 columns):\n",
      " #   Column        Non-Null Count  Dtype  \n",
      "---  ------        --------------  -----  \n",
      " 0   Unnamed: 0    18249 non-null  int64  \n",
      " 1   Date          18249 non-null  object \n",
      " 2   AveragePrice  18249 non-null  float64\n",
      " 3   Total Volume  18249 non-null  float64\n",
      " 4   4046          18249 non-null  float64\n",
      " 5   4225          18249 non-null  float64\n",
      " 6   4770          18249 non-null  float64\n",
      " 7   Total Bags    18249 non-null  float64\n",
      " 8   Small Bags    18249 non-null  float64\n",
      " 9   Large Bags    18249 non-null  float64\n",
      " 10  XLarge Bags   18249 non-null  float64\n",
      " 11  type          18249 non-null  object \n",
      " 12  year          18249 non-null  int64  \n",
      " 13  region        18249 non-null  object \n",
      "dtypes: float64(9), int64(2), object(3)\n",
      "memory usage: 1.9+ MB\n"
     ]
    }
   ],
   "source": [
    "dp.info()"
   ]
  },
  {
   "cell_type": "code",
   "execution_count": 7,
   "id": "b55ac9c8",
   "metadata": {},
   "outputs": [
    {
     "data": {
      "text/html": [
       "<div>\n",
       "<style scoped>\n",
       "    .dataframe tbody tr th:only-of-type {\n",
       "        vertical-align: middle;\n",
       "    }\n",
       "\n",
       "    .dataframe tbody tr th {\n",
       "        vertical-align: top;\n",
       "    }\n",
       "\n",
       "    .dataframe thead th {\n",
       "        text-align: right;\n",
       "    }\n",
       "</style>\n",
       "<table border=\"1\" class=\"dataframe\">\n",
       "  <thead>\n",
       "    <tr style=\"text-align: right;\">\n",
       "      <th></th>\n",
       "      <th>Unnamed: 0</th>\n",
       "      <th>Date</th>\n",
       "      <th>AveragePrice</th>\n",
       "      <th>Total Volume</th>\n",
       "      <th>4046</th>\n",
       "      <th>4225</th>\n",
       "      <th>4770</th>\n",
       "      <th>Total Bags</th>\n",
       "      <th>Small Bags</th>\n",
       "      <th>Large Bags</th>\n",
       "      <th>XLarge Bags</th>\n",
       "      <th>type</th>\n",
       "      <th>year</th>\n",
       "      <th>region</th>\n",
       "    </tr>\n",
       "  </thead>\n",
       "  <tbody>\n",
       "    <tr>\n",
       "      <th>0</th>\n",
       "      <td>0</td>\n",
       "      <td>2015-12-27</td>\n",
       "      <td>1.33</td>\n",
       "      <td>64236.62</td>\n",
       "      <td>1036.74</td>\n",
       "      <td>54454.85</td>\n",
       "      <td>48.16</td>\n",
       "      <td>8696.87</td>\n",
       "      <td>8603.62</td>\n",
       "      <td>93.25</td>\n",
       "      <td>0.0</td>\n",
       "      <td>conventional</td>\n",
       "      <td>2015</td>\n",
       "      <td>Albany</td>\n",
       "    </tr>\n",
       "    <tr>\n",
       "      <th>1</th>\n",
       "      <td>1</td>\n",
       "      <td>2015-12-20</td>\n",
       "      <td>1.35</td>\n",
       "      <td>54876.98</td>\n",
       "      <td>674.28</td>\n",
       "      <td>44638.81</td>\n",
       "      <td>58.33</td>\n",
       "      <td>9505.56</td>\n",
       "      <td>9408.07</td>\n",
       "      <td>97.49</td>\n",
       "      <td>0.0</td>\n",
       "      <td>conventional</td>\n",
       "      <td>2015</td>\n",
       "      <td>Albany</td>\n",
       "    </tr>\n",
       "    <tr>\n",
       "      <th>2</th>\n",
       "      <td>2</td>\n",
       "      <td>2015-12-13</td>\n",
       "      <td>0.93</td>\n",
       "      <td>118220.22</td>\n",
       "      <td>794.70</td>\n",
       "      <td>109149.67</td>\n",
       "      <td>130.50</td>\n",
       "      <td>8145.35</td>\n",
       "      <td>8042.21</td>\n",
       "      <td>103.14</td>\n",
       "      <td>0.0</td>\n",
       "      <td>conventional</td>\n",
       "      <td>2015</td>\n",
       "      <td>Albany</td>\n",
       "    </tr>\n",
       "    <tr>\n",
       "      <th>3</th>\n",
       "      <td>3</td>\n",
       "      <td>2015-12-06</td>\n",
       "      <td>1.08</td>\n",
       "      <td>78992.15</td>\n",
       "      <td>1132.00</td>\n",
       "      <td>71976.41</td>\n",
       "      <td>72.58</td>\n",
       "      <td>5811.16</td>\n",
       "      <td>5677.40</td>\n",
       "      <td>133.76</td>\n",
       "      <td>0.0</td>\n",
       "      <td>conventional</td>\n",
       "      <td>2015</td>\n",
       "      <td>Albany</td>\n",
       "    </tr>\n",
       "    <tr>\n",
       "      <th>4</th>\n",
       "      <td>4</td>\n",
       "      <td>2015-11-29</td>\n",
       "      <td>1.28</td>\n",
       "      <td>51039.60</td>\n",
       "      <td>941.48</td>\n",
       "      <td>43838.39</td>\n",
       "      <td>75.78</td>\n",
       "      <td>6183.95</td>\n",
       "      <td>5986.26</td>\n",
       "      <td>197.69</td>\n",
       "      <td>0.0</td>\n",
       "      <td>conventional</td>\n",
       "      <td>2015</td>\n",
       "      <td>Albany</td>\n",
       "    </tr>\n",
       "  </tbody>\n",
       "</table>\n",
       "</div>"
      ],
      "text/plain": [
       "   Unnamed: 0        Date  AveragePrice  Total Volume     4046       4225  \\\n",
       "0           0  2015-12-27          1.33      64236.62  1036.74   54454.85   \n",
       "1           1  2015-12-20          1.35      54876.98   674.28   44638.81   \n",
       "2           2  2015-12-13          0.93     118220.22   794.70  109149.67   \n",
       "3           3  2015-12-06          1.08      78992.15  1132.00   71976.41   \n",
       "4           4  2015-11-29          1.28      51039.60   941.48   43838.39   \n",
       "\n",
       "     4770  Total Bags  Small Bags  Large Bags  XLarge Bags          type  \\\n",
       "0   48.16     8696.87     8603.62       93.25          0.0  conventional   \n",
       "1   58.33     9505.56     9408.07       97.49          0.0  conventional   \n",
       "2  130.50     8145.35     8042.21      103.14          0.0  conventional   \n",
       "3   72.58     5811.16     5677.40      133.76          0.0  conventional   \n",
       "4   75.78     6183.95     5986.26      197.69          0.0  conventional   \n",
       "\n",
       "   year  region  \n",
       "0  2015  Albany  \n",
       "1  2015  Albany  \n",
       "2  2015  Albany  \n",
       "3  2015  Albany  \n",
       "4  2015  Albany  "
      ]
     },
     "execution_count": 7,
     "metadata": {},
     "output_type": "execute_result"
    }
   ],
   "source": [
    "dp.head()"
   ]
  },
  {
   "cell_type": "markdown",
   "id": "3a4c613a",
   "metadata": {},
   "source": [
    "# CHECKING MISSING VALUES"
   ]
  },
  {
   "cell_type": "code",
   "execution_count": 8,
   "id": "69e7a696",
   "metadata": {},
   "outputs": [
    {
     "data": {
      "text/plain": [
       "Unnamed: 0      0\n",
       "Date            0\n",
       "AveragePrice    0\n",
       "Total Volume    0\n",
       "4046            0\n",
       "4225            0\n",
       "4770            0\n",
       "Total Bags      0\n",
       "Small Bags      0\n",
       "Large Bags      0\n",
       "XLarge Bags     0\n",
       "type            0\n",
       "year            0\n",
       "region          0\n",
       "dtype: int64"
      ]
     },
     "execution_count": 8,
     "metadata": {},
     "output_type": "execute_result"
    }
   ],
   "source": [
    "dp.isnull().sum()"
   ]
  },
  {
   "cell_type": "markdown",
   "id": "28e15e76",
   "metadata": {},
   "source": [
    "# DROPPING UNNECESSARY COLUMNS"
   ]
  },
  {
   "cell_type": "code",
   "execution_count": 10,
   "id": "89b8f50d",
   "metadata": {},
   "outputs": [],
   "source": [
    "dp=dp.drop(['Unnamed: 0','4046','4225','4770','Date'],axis=1)"
   ]
  },
  {
   "cell_type": "code",
   "execution_count": 12,
   "id": "39e83e36",
   "metadata": {},
   "outputs": [
    {
     "data": {
      "text/html": [
       "<div>\n",
       "<style scoped>\n",
       "    .dataframe tbody tr th:only-of-type {\n",
       "        vertical-align: middle;\n",
       "    }\n",
       "\n",
       "    .dataframe tbody tr th {\n",
       "        vertical-align: top;\n",
       "    }\n",
       "\n",
       "    .dataframe thead th {\n",
       "        text-align: right;\n",
       "    }\n",
       "</style>\n",
       "<table border=\"1\" class=\"dataframe\">\n",
       "  <thead>\n",
       "    <tr style=\"text-align: right;\">\n",
       "      <th></th>\n",
       "      <th>AveragePrice</th>\n",
       "      <th>Total Volume</th>\n",
       "      <th>Total Bags</th>\n",
       "      <th>Small Bags</th>\n",
       "      <th>Large Bags</th>\n",
       "      <th>XLarge Bags</th>\n",
       "      <th>type</th>\n",
       "      <th>year</th>\n",
       "      <th>region</th>\n",
       "    </tr>\n",
       "  </thead>\n",
       "  <tbody>\n",
       "    <tr>\n",
       "      <th>0</th>\n",
       "      <td>1.33</td>\n",
       "      <td>64236.62</td>\n",
       "      <td>8696.87</td>\n",
       "      <td>8603.62</td>\n",
       "      <td>93.25</td>\n",
       "      <td>0.0</td>\n",
       "      <td>conventional</td>\n",
       "      <td>2015</td>\n",
       "      <td>Albany</td>\n",
       "    </tr>\n",
       "    <tr>\n",
       "      <th>1</th>\n",
       "      <td>1.35</td>\n",
       "      <td>54876.98</td>\n",
       "      <td>9505.56</td>\n",
       "      <td>9408.07</td>\n",
       "      <td>97.49</td>\n",
       "      <td>0.0</td>\n",
       "      <td>conventional</td>\n",
       "      <td>2015</td>\n",
       "      <td>Albany</td>\n",
       "    </tr>\n",
       "    <tr>\n",
       "      <th>2</th>\n",
       "      <td>0.93</td>\n",
       "      <td>118220.22</td>\n",
       "      <td>8145.35</td>\n",
       "      <td>8042.21</td>\n",
       "      <td>103.14</td>\n",
       "      <td>0.0</td>\n",
       "      <td>conventional</td>\n",
       "      <td>2015</td>\n",
       "      <td>Albany</td>\n",
       "    </tr>\n",
       "    <tr>\n",
       "      <th>3</th>\n",
       "      <td>1.08</td>\n",
       "      <td>78992.15</td>\n",
       "      <td>5811.16</td>\n",
       "      <td>5677.40</td>\n",
       "      <td>133.76</td>\n",
       "      <td>0.0</td>\n",
       "      <td>conventional</td>\n",
       "      <td>2015</td>\n",
       "      <td>Albany</td>\n",
       "    </tr>\n",
       "    <tr>\n",
       "      <th>4</th>\n",
       "      <td>1.28</td>\n",
       "      <td>51039.60</td>\n",
       "      <td>6183.95</td>\n",
       "      <td>5986.26</td>\n",
       "      <td>197.69</td>\n",
       "      <td>0.0</td>\n",
       "      <td>conventional</td>\n",
       "      <td>2015</td>\n",
       "      <td>Albany</td>\n",
       "    </tr>\n",
       "  </tbody>\n",
       "</table>\n",
       "</div>"
      ],
      "text/plain": [
       "   AveragePrice  Total Volume  Total Bags  Small Bags  Large Bags  \\\n",
       "0          1.33      64236.62     8696.87     8603.62       93.25   \n",
       "1          1.35      54876.98     9505.56     9408.07       97.49   \n",
       "2          0.93     118220.22     8145.35     8042.21      103.14   \n",
       "3          1.08      78992.15     5811.16     5677.40      133.76   \n",
       "4          1.28      51039.60     6183.95     5986.26      197.69   \n",
       "\n",
       "   XLarge Bags          type  year  region  \n",
       "0          0.0  conventional  2015  Albany  \n",
       "1          0.0  conventional  2015  Albany  \n",
       "2          0.0  conventional  2015  Albany  \n",
       "3          0.0  conventional  2015  Albany  \n",
       "4          0.0  conventional  2015  Albany  "
      ]
     },
     "execution_count": 12,
     "metadata": {},
     "output_type": "execute_result"
    }
   ],
   "source": [
    "dp.head() #now here we can seee in dataset the unnecessary columns are deleted"
   ]
  },
  {
   "cell_type": "markdown",
   "id": "a4fb1eb9",
   "metadata": {},
   "source": [
    "# ANSWERING QUESTIONS"
   ]
  },
  {
   "cell_type": "code",
   "execution_count": 53,
   "id": "d6117489",
   "metadata": {},
   "outputs": [],
   "source": [
    "def get_average(dp,column):\n",
    "    \"\"\"\"\n",
    "    Description: This function to return the average value of thr column\n",
    "    \n",
    "    Arguments:\n",
    "    dp: the DataFrame.\n",
    "    column: the selected column.\n",
    "    \n",
    "    Returns:\n",
    "    column's average\n",
    "    \"\"\"\n",
    "    \n",
    "    return sum(dp[column])/len(dp)\n"
   ]
  },
  {
   "cell_type": "code",
   "execution_count": 54,
   "id": "5702ad97",
   "metadata": {},
   "outputs": [],
   "source": [
    "def get_average_between_two_columns(dp,column1,column2):\n",
    "    \"\"\"\n",
    "    Description: This function calculate the average between two columns in the dataset\n",
    "\n",
    "    Arguments:\n",
    "        df: the DataFrame. \n",
    "        column1:the first column. \n",
    "        column2:the scond column.\n",
    "    Returns:\n",
    "        Sorted data for relation between column1 and column2\n",
    "    \"\"\"\n",
    "    \n",
    "    List=list(dp[column1].unique())\n",
    "    average=[]\n",
    "\n",
    "    for i in List:\n",
    "        x=dp[dp[column1]==i]\n",
    "        column1_average= get_average(x,column2)\n",
    "        average.append(column1_average)\n",
    "\n",
    "    dp_column1_column2=pd.DataFrame({'column1':List,'column2':average})\n",
    "    column1_column2_sorted_index=dp_column1_column2.column2.sort_values(ascending=False).index.values\n",
    "    column1_column2_sorted_data=dp_column1_column2.reindex(column1_column2_sorted_index)\n",
    "    \n",
    "    return column1_column2_sorted_data\n",
    "        "
   ]
  },
  {
   "cell_type": "code",
   "execution_count": 55,
   "id": "a9f7252f",
   "metadata": {},
   "outputs": [],
   "source": [
    "def plot(data,xlabel,ylabel):\n",
    "    \"\"\"\n",
    "    Description: This function to draw a barplot\n",
    "\n",
    "    Arguments:\n",
    "        data: the DataFrame. \n",
    "        xlabel: the label of the first column. \n",
    "        ylabel: the label of the second column.\n",
    "    Returns:\n",
    "        None\n",
    "    \"\"\"\n",
    "        \n",
    "    plt.figure(figsize=(15,5))\n",
    "    ax=sns.barplot(x=data.column1,y=data.column2,palette='rocket')\n",
    "    plt.xticks(rotation=90)\n",
    "    plt.xlabel(xlabel)\n",
    "    plt.ylabel(ylabel)\n",
    "    plt.title(('Avarage '+ylabel+' of Avocado According to '+xlabel));"
   ]
  },
  {
   "cell_type": "markdown",
   "id": "0ca7ea1c",
   "metadata": {},
   "source": [
    "# Which region are the lowest and highest prices of Avocado?"
   ]
  },
  {
   "cell_type": "code",
   "execution_count": 56,
   "id": "92216e4b",
   "metadata": {},
   "outputs": [
    {
     "data": {
      "image/png": "[encoded data removed]",
      "text/plain": [
       "<Figure size 1080x360 with 1 Axes>"
      ]
     },
     "metadata": {
      "needs_background": "light"
     },
     "output_type": "display_data"
    }
   ],
   "source": [
    "data1 = get_average_between_two_columns(dp,'region','AveragePrice')\n",
    "plot(data1,'Region','Price ($)')"
   ]
  },
  {
   "cell_type": "code",
   "execution_count": 58,
   "id": "0685c5b9",
   "metadata": {},
   "outputs": [
    {
     "name": "stdout",
     "output_type": "stream",
     "text": [
      "Houston is the region producing avacado with the lowest price.\n"
     ]
    }
   ],
   "source": [
    "print(data1['column1'].iloc[-1], \"is the region producing avacado with the lowest price.\")"
   ]
  },
  {
   "cell_type": "markdown",
   "id": "71c21cda",
   "metadata": {},
   "source": [
    "# What is the highest region of avocado production?"
   ]
  },
  {
   "cell_type": "markdown",
   "id": "aedc6b6a",
   "metadata": {},
   "source": [
    "Checking if there are outlier values or not."
   ]
  },
  {
   "cell_type": "code",
   "execution_count": 59,
   "id": "f2eae114",
   "metadata": {},
   "outputs": [
    {
     "data": {
      "text/plain": [
       "Text(0.5, 1.0, 'Figure: Boxplot representing outlier Columns')"
      ]
     },
     "execution_count": 59,
     "metadata": {},
     "output_type": "execute_result"
    },
    {
     "data": {
      "image/png": "[encoded data removed]",
      "text/plain": [
       "<Figure size 432x288 with 1 Axes>"
      ]
     },
     "metadata": {
      "needs_background": "light"
     },
     "output_type": "display_data"
    }
   ],
   "source": [
    "data2=get_average_between_two_columns(dp,'region','Total Volume')\n",
    "sns.boxplot(x=data2.column2).set_title(\"Figure: Boxplot representing outlier Columns\")"
   ]
  },
  {
   "cell_type": "code",
   "execution_count": 60,
   "id": "743a2653",
   "metadata": {},
   "outputs": [
    {
     "name": "stdout",
     "output_type": "stream",
     "text": [
      "TotalUS is outlier value\n"
     ]
    }
   ],
   "source": [
    "outlier_region=data2[data2.column2>10000000]\n",
    "print(outlier_region['column1'].iloc[-1], \"is outlier value\")"
   ]
  },
  {
   "cell_type": "code",
   "execution_count": 61,
   "id": "96ef75cf",
   "metadata": {},
   "outputs": [],
   "source": [
    "outlier_region.index\n",
    "data2=data2.drop(outlier_region.index,axis=0)#Removing the Outlier Value"
   ]
  },
  {
   "cell_type": "code",
   "execution_count": 62,
   "id": "cc42705e",
   "metadata": {},
   "outputs": [
    {
     "data": {
      "image/png": "[encoded data removed]",
      "text/plain": [
       "<Figure size 1080x360 with 1 Axes>"
      ]
     },
     "metadata": {
      "needs_background": "light"
     },
     "output_type": "display_data"
    }
   ],
   "source": [
    "plot(data2,'Region','Volume')"
   ]
  },
  {
   "cell_type": "markdown",
   "id": "4f861b08",
   "metadata": {},
   "source": [
    "# What is the average avocado prices in each year?"
   ]
  },
  {
   "cell_type": "code",
   "execution_count": 63,
   "id": "75f6a269",
   "metadata": {},
   "outputs": [
    {
     "data": {
      "image/png": "[encoded data removed]",
      "text/plain": [
       "<Figure size 1080x360 with 1 Axes>"
      ]
     },
     "metadata": {
      "needs_background": "light"
     },
     "output_type": "display_data"
    }
   ],
   "source": [
    "data3=get_average_between_two_columns(dp,'year','AveragePrice')\n",
    "plot(data3,'year','Price')"
   ]
  },
  {
   "cell_type": "markdown",
   "id": "007a364e",
   "metadata": {},
   "source": [
    "# What is the average avocado volume in each year?"
   ]
  },
  {
   "cell_type": "code",
   "execution_count": 64,
   "id": "511148f5",
   "metadata": {},
   "outputs": [
    {
     "data": {
      "image/png": "[encoded data removed]",
      "text/plain": [
       "<Figure size 1080x360 with 1 Axes>"
      ]
     },
     "metadata": {
      "needs_background": "light"
     },
     "output_type": "display_data"
    }
   ],
   "source": [
    "data4=get_average_between_two_columns(dp,'year','Total Volume')\n",
    "plot(data4,'year','Volume')"
   ]
  },
  {
   "cell_type": "markdown",
   "id": "2fe17c16",
   "metadata": {},
   "source": [
    "# DATA MODELLING"
   ]
  },
  {
   "cell_type": "markdown",
   "id": "57e43033",
   "metadata": {},
   "source": [
    "changing some column types to categories"
   ]
  },
  {
   "cell_type": "code",
   "execution_count": 66,
   "id": "15abd584",
   "metadata": {},
   "outputs": [],
   "source": [
    "dp['region']=dp['region'].astype('category')\n",
    "dp['region']=dp['region'].cat.codes\n",
    "\n",
    "\n",
    "dp['type']=dp['type'].astype('category')\n",
    "dp['type']=dp['type'].cat.codes"
   ]
  },
  {
   "cell_type": "code",
   "execution_count": 67,
   "id": "13fd265c",
   "metadata": {},
   "outputs": [
    {
     "name": "stdout",
     "output_type": "stream",
     "text": [
      "<class 'pandas.core.frame.DataFrame'>\n",
      "RangeIndex: 18249 entries, 0 to 18248\n",
      "Data columns (total 9 columns):\n",
      " #   Column        Non-Null Count  Dtype  \n",
      "---  ------        --------------  -----  \n",
      " 0   AveragePrice  18249 non-null  float64\n",
      " 1   Total Volume  18249 non-null  float64\n",
      " 2   Total Bags    18249 non-null  float64\n",
      " 3   Small Bags    18249 non-null  float64\n",
      " 4   Large Bags    18249 non-null  float64\n",
      " 5   XLarge Bags   18249 non-null  float64\n",
      " 6   type          18249 non-null  int8   \n",
      " 7   year          18249 non-null  int64  \n",
      " 8   region        18249 non-null  int8   \n",
      "dtypes: float64(6), int64(1), int8(2)\n",
      "memory usage: 1.0 MB\n"
     ]
    }
   ],
   "source": [
    "dp.info()"
   ]
  },
  {
   "cell_type": "code",
   "execution_count": 68,
   "id": "add6faa8",
   "metadata": {},
   "outputs": [
    {
     "data": {
      "text/html": [
       "<div>\n",
       "<style scoped>\n",
       "    .dataframe tbody tr th:only-of-type {\n",
       "        vertical-align: middle;\n",
       "    }\n",
       "\n",
       "    .dataframe tbody tr th {\n",
       "        vertical-align: top;\n",
       "    }\n",
       "\n",
       "    .dataframe thead th {\n",
       "        text-align: right;\n",
       "    }\n",
       "</style>\n",
       "<table border=\"1\" class=\"dataframe\">\n",
       "  <thead>\n",
       "    <tr style=\"text-align: right;\">\n",
       "      <th></th>\n",
       "      <th>AveragePrice</th>\n",
       "      <th>Total Volume</th>\n",
       "      <th>Total Bags</th>\n",
       "      <th>Small Bags</th>\n",
       "      <th>Large Bags</th>\n",
       "      <th>XLarge Bags</th>\n",
       "      <th>type</th>\n",
       "      <th>year</th>\n",
       "      <th>region</th>\n",
       "    </tr>\n",
       "  </thead>\n",
       "  <tbody>\n",
       "    <tr>\n",
       "      <th>0</th>\n",
       "      <td>1.33</td>\n",
       "      <td>64236.62</td>\n",
       "      <td>8696.87</td>\n",
       "      <td>8603.62</td>\n",
       "      <td>93.25</td>\n",
       "      <td>0.0</td>\n",
       "      <td>0</td>\n",
       "      <td>2015</td>\n",
       "      <td>0</td>\n",
       "    </tr>\n",
       "    <tr>\n",
       "      <th>1</th>\n",
       "      <td>1.35</td>\n",
       "      <td>54876.98</td>\n",
       "      <td>9505.56</td>\n",
       "      <td>9408.07</td>\n",
       "      <td>97.49</td>\n",
       "      <td>0.0</td>\n",
       "      <td>0</td>\n",
       "      <td>2015</td>\n",
       "      <td>0</td>\n",
       "    </tr>\n",
       "    <tr>\n",
       "      <th>2</th>\n",
       "      <td>0.93</td>\n",
       "      <td>118220.22</td>\n",
       "      <td>8145.35</td>\n",
       "      <td>8042.21</td>\n",
       "      <td>103.14</td>\n",
       "      <td>0.0</td>\n",
       "      <td>0</td>\n",
       "      <td>2015</td>\n",
       "      <td>0</td>\n",
       "    </tr>\n",
       "    <tr>\n",
       "      <th>3</th>\n",
       "      <td>1.08</td>\n",
       "      <td>78992.15</td>\n",
       "      <td>5811.16</td>\n",
       "      <td>5677.40</td>\n",
       "      <td>133.76</td>\n",
       "      <td>0.0</td>\n",
       "      <td>0</td>\n",
       "      <td>2015</td>\n",
       "      <td>0</td>\n",
       "    </tr>\n",
       "    <tr>\n",
       "      <th>4</th>\n",
       "      <td>1.28</td>\n",
       "      <td>51039.60</td>\n",
       "      <td>6183.95</td>\n",
       "      <td>5986.26</td>\n",
       "      <td>197.69</td>\n",
       "      <td>0.0</td>\n",
       "      <td>0</td>\n",
       "      <td>2015</td>\n",
       "      <td>0</td>\n",
       "    </tr>\n",
       "  </tbody>\n",
       "</table>\n",
       "</div>"
      ],
      "text/plain": [
       "   AveragePrice  Total Volume  Total Bags  Small Bags  Large Bags  \\\n",
       "0          1.33      64236.62     8696.87     8603.62       93.25   \n",
       "1          1.35      54876.98     9505.56     9408.07       97.49   \n",
       "2          0.93     118220.22     8145.35     8042.21      103.14   \n",
       "3          1.08      78992.15     5811.16     5677.40      133.76   \n",
       "4          1.28      51039.60     6183.95     5986.26      197.69   \n",
       "\n",
       "   XLarge Bags  type  year  region  \n",
       "0          0.0     0  2015       0  \n",
       "1          0.0     0  2015       0  \n",
       "2          0.0     0  2015       0  \n",
       "3          0.0     0  2015       0  \n",
       "4          0.0     0  2015       0  "
      ]
     },
     "execution_count": 68,
     "metadata": {},
     "output_type": "execute_result"
    }
   ],
   "source": [
    "dp.head()"
   ]
  },
  {
   "cell_type": "code",
   "execution_count": 69,
   "id": "8b5cd2c7",
   "metadata": {},
   "outputs": [],
   "source": [
    "#Splitting the dataset into X & Y\n",
    "X=dp.drop(['AveragePrice'],axis=1)\n",
    "y=dp['AveragePrice']"
   ]
  },
  {
   "cell_type": "code",
   "execution_count": 75,
   "id": "cf7d86ed",
   "metadata": {},
   "outputs": [],
   "source": [
    "#Splitting The dataset into Training & Testing Phase\n",
    "from sklearn.model_selection import train_test_split\n",
    "X_train,X_test,y_train,y_test=train_test_split(X,y,test_size=0.20,random_state=0)\n"
   ]
  },
  {
   "cell_type": "code",
   "execution_count": 76,
   "id": "7e6dd383",
   "metadata": {},
   "outputs": [
    {
     "data": {
      "text/plain": [
       "(14599, 8)"
      ]
     },
     "execution_count": 76,
     "metadata": {},
     "output_type": "execute_result"
    }
   ],
   "source": [
    "X_train.shape"
   ]
  },
  {
   "cell_type": "code",
   "execution_count": 77,
   "id": "b454c526",
   "metadata": {},
   "outputs": [
    {
     "data": {
      "text/plain": [
       "(3650, 8)"
      ]
     },
     "execution_count": 77,
     "metadata": {},
     "output_type": "execute_result"
    }
   ],
   "source": [
    "X_test.shape"
   ]
  },
  {
   "cell_type": "code",
   "execution_count": 79,
   "id": "ff6454e6",
   "metadata": {},
   "outputs": [
    {
     "data": {
      "text/plain": [
       "LinearRegression()"
      ]
     },
     "execution_count": 79,
     "metadata": {},
     "output_type": "execute_result"
    }
   ],
   "source": [
    "#Building & Fiting the model into LinearRegression\n",
    "from sklearn.linear_model import LinearRegression\n",
    "model=LinearRegression()\n",
    "model.fit(X_train,y_train)"
   ]
  },
  {
   "cell_type": "code",
   "execution_count": 82,
   "id": "dad2cbee",
   "metadata": {},
   "outputs": [
    {
     "name": "stdout",
     "output_type": "stream",
     "text": [
      "39.89230268071401\n"
     ]
    }
   ],
   "source": [
    "#Predicting the accuracy for testing phase\n",
    "from sklearn.metrics import r2_score\n",
    "test_pred=model.predict(X_test)\n",
    "test_score=r2_score(y_test,test_pred)\n",
    "print(test_score*100)"
   ]
  },
  {
   "cell_type": "code",
   "execution_count": 83,
   "id": "15cf9218",
   "metadata": {},
   "outputs": [
    {
     "name": "stdout",
     "output_type": "stream",
     "text": [
      "39.24925526949343\n"
     ]
    }
   ],
   "source": [
    "#Predicting the accuracy for training phase\n",
    "train_pred=model.predict(X_train)\n",
    "train_score=r2_score(y_train,train_pred)\n",
    "print(train_score*100)"
   ]
  },
  {
   "cell_type": "code",
   "execution_count": null,
   "id": "2a3d9988",
   "metadata": {},
   "outputs": [],
   "source": []
  }
 ],
 "metadata": {
  "kernelspec": {
   "display_name": "Python 3 (ipykernel)",
   "language": "python",
   "name": "python3"
  },
  "language_info": {
   "codemirror_mode": {
    "name": "ipython",
    "version": 3
   },
   "file_extension": ".py",
   "mimetype": "text/x-python",
   "name": "python",
   "nbconvert_exporter": "python",
   "pygments_lexer": "ipython3",
   "version": "3.9.12"
  }
 },
 "nbformat": 4,
 "nbformat_minor": 5
}
